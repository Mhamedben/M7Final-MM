{
 "cells": [
  {
   "cell_type": "markdown",
   "metadata": {},
   "source": [
    "# Web Mining and Applied NLP (44-620)\n",
    "\n",
    "## Final Project: Article Summarizer\n",
    "\n",
    "### Student Name: Mhamed Maatou\n",
    "\n",
    "#### Github repository: https://github.com/Mhamedben/M7Final-MM.git\n",
    "\n",
    "Perform the tasks described in the Markdown cells below.  When you have completed the assignment make sure your code cells have all been run (and have output beneath them) and ensure you have committed and pushed ALL of your changes to your assignment repository.\n",
    "\n",
    "You should bring in code from previous assignments to help you answer the questions below.\n",
    "\n",
    "Every question that requires you to write code will have a code cell underneath it; you may either write your entire solution in that cell or write it in a python file (`.py`), then import and run the appropriate code to answer the question."
   ]
  },
  {
   "cell_type": "code",
   "execution_count": 1,
   "metadata": {},
   "outputs": [
    {
     "name": "stdout",
     "output_type": "stream",
     "text": [
      "Package                   Version\n",
      "------------------------- --------------\n",
      "annotated-types           0.7.0\n",
      "anyio                     4.6.2.post1\n",
      "argon2-cffi               23.1.0\n",
      "argon2-cffi-bindings      21.2.0\n",
      "arrow                     1.3.0\n",
      "asttokens                 2.4.1\n",
      "async-lru                 2.0.4\n",
      "attrs                     24.2.0\n",
      "babel                     2.16.0\n",
      "beautifulsoup4            4.12.3\n",
      "bleach                    6.2.0\n",
      "blis                      1.0.1\n",
      "catalogue                 2.0.10\n",
      "certifi                   2024.8.30\n",
      "cffi                      1.17.1\n",
      "charset-normalizer        3.4.0\n",
      "click                     8.1.7\n",
      "cloudpathlib              0.20.0\n",
      "colorama                  0.4.6\n",
      "comm                      0.2.2\n",
      "confection                0.1.5\n",
      "contourpy                 1.3.1\n",
      "cycler                    0.12.1\n",
      "cymem                     2.0.10\n",
      "debugpy                   1.8.9\n",
      "decorator                 5.1.1\n",
      "defusedxml                0.7.1\n",
      "en_core_web_sm            3.8.0\n",
      "executing                 2.1.0\n",
      "fastjsonschema            2.20.0\n",
      "fonttools                 4.55.0\n",
      "fqdn                      1.5.1\n",
      "h11                       0.14.0\n",
      "html5lib                  1.1\n",
      "httpcore                  1.0.7\n",
      "httpx                     0.27.2\n",
      "idna                      3.10\n",
      "ipykernel                 6.29.5\n",
      "ipython                   8.29.0\n",
      "isoduration               20.11.0\n",
      "jedi                      0.19.2\n",
      "Jinja2                    3.1.4\n",
      "joblib                    1.4.2\n",
      "json5                     0.10.0\n",
      "jsonpointer               3.0.0\n",
      "jsonschema                4.23.0\n",
      "jsonschema-specifications 2024.10.1\n",
      "jupyter_client            8.6.3\n",
      "jupyter_core              5.7.2\n",
      "jupyter-events            0.10.0\n",
      "jupyter-lsp               2.2.5\n",
      "jupyter_server            2.14.2\n",
      "jupyter_server_terminals  0.5.3\n",
      "jupyterlab                4.3.1\n",
      "jupyterlab_pygments       0.3.0\n",
      "jupyterlab_server         2.27.3\n",
      "kiwisolver                1.4.7\n",
      "langcodes                 3.5.0\n",
      "language_data             1.3.0\n",
      "marisa-trie               1.2.1\n",
      "markdown-it-py            3.0.0\n",
      "MarkupSafe                3.0.2\n",
      "matplotlib                3.9.2\n",
      "matplotlib-inline         0.1.7\n",
      "mdurl                     0.1.2\n",
      "mistune                   3.0.2\n",
      "murmurhash                1.0.11\n",
      "nbclient                  0.10.0\n",
      "nbconvert                 7.16.4\n",
      "nbformat                  5.10.4\n",
      "nest-asyncio              1.6.0\n",
      "nltk                      3.9.1\n",
      "notebook_shim             0.2.4\n",
      "numpy                     2.0.2\n",
      "overrides                 7.7.0\n",
      "packaging                 24.2\n",
      "pandocfilters             1.5.1\n",
      "parso                     0.8.4\n",
      "pillow                    11.0.0\n",
      "pip                       24.3.1\n",
      "platformdirs              4.3.6\n",
      "preshed                   3.0.9\n",
      "prometheus_client         0.21.0\n",
      "prompt_toolkit            3.0.48\n",
      "psutil                    6.1.0\n",
      "pure_eval                 0.2.3\n",
      "pycparser                 2.22\n",
      "pydantic                  2.10.2\n",
      "pydantic_core             2.27.1\n",
      "Pygments                  2.18.0\n",
      "pyparsing                 3.2.0\n",
      "python-dateutil           2.9.0.post0\n",
      "python-json-logger        2.0.7\n",
      "pywin32                   308\n",
      "pywinpty                  2.0.14\n",
      "PyYAML                    6.0.2\n",
      "pyzmq                     26.2.0\n",
      "referencing               0.35.1\n",
      "regex                     2024.11.6\n",
      "requests                  2.32.3\n",
      "rfc3339-validator         0.1.4\n",
      "rfc3986-validator         0.1.1\n",
      "rich                      13.9.4\n",
      "rpds-py                   0.21.0\n",
      "Send2Trash                1.8.3\n",
      "setuptools                65.5.0\n",
      "shellingham               1.5.4\n",
      "six                       1.16.0\n",
      "smart-open                7.0.5\n",
      "sniffio                   1.3.1\n",
      "soupsieve                 2.6\n",
      "spacy                     3.8.2\n",
      "spacy-legacy              3.0.12\n",
      "spacy-loggers             1.0.5\n",
      "spacytextblob             5.0.0\n",
      "srsly                     2.4.8\n",
      "stack-data                0.6.3\n",
      "terminado                 0.18.1\n",
      "textblob                  0.18.0.post0\n",
      "thinc                     8.3.2\n",
      "tinycss2                  1.4.0\n",
      "tornado                   6.4.2\n",
      "tqdm                      4.67.1\n",
      "traitlets                 5.14.3\n",
      "typer                     0.13.1\n",
      "types-python-dateutil     2.9.0.20241003\n",
      "typing_extensions         4.12.2\n",
      "uri-template              1.3.0\n",
      "urllib3                   2.2.3\n",
      "wasabi                    1.1.3\n",
      "wcwidth                   0.2.13\n",
      "weasel                    0.4.1\n",
      "webcolors                 24.11.1\n",
      "webencodings              0.5.1\n",
      "websocket-client          1.8.0\n",
      "wrapt                     1.17.0\n",
      "All prereqs installed.\n"
     ]
    }
   ],
   "source": [
    "from collections import Counter\n",
    "import pickle\n",
    "import requests\n",
    "import spacy\n",
    "from bs4 import BeautifulSoup\n",
    "import matplotlib.pyplot as plt\n",
    "\n",
    "!pip list\n",
    "\n",
    "print('All prereqs installed.')"
   ]
  },
  {
   "cell_type": "markdown",
   "metadata": {},
   "source": [
    "1. Find on the internet an article or blog post about a topic that interests you and you are able to get the text for using the technologies we have applied in the course.  Get the html for the article and store it in a file (which you must submit with your project)"
   ]
  },
  {
   "cell_type": "markdown",
   "metadata": {},
   "source": [
    "My topic of interest is automated vehicles and their safety features. I would like to analyze a webpage from the National Highway Traffic Safety Administration (NHTSA) at https://www.nhtsa.gov/vehicle-safety/automated-vehicles-safety. The HTML file of the page has been saved in my project folder."
   ]
  },
  {
   "cell_type": "code",
   "execution_count": 2,
   "metadata": {},
   "outputs": [
    {
     "name": "stdout",
     "output_type": "stream",
     "text": [
      "HTML content saved to article.pkl\n"
     ]
    }
   ],
   "source": [
    "import requests\n",
    "import pickle\n",
    "\n",
    "# URL of the article\n",
    "url = \"https://www.nhtsa.gov/vehicle-safety/automated-vehicles-safety\"\n",
    "\n",
    "# request to get the HTML content\n",
    "response = requests.get(url)\n",
    "html_content = response.text\n",
    "\n",
    "# determine pkl file name\n",
    "file_name = \"article.pkl\"\n",
    "\n",
    "# Save HTML content to a pickle file\n",
    "with open(file_name, \"wb\") as file:\n",
    "    pickle.dump(html_content, file)\n",
    "\n",
    "print(f\"HTML content saved to {file_name}\")"
   ]
  },
  {
   "cell_type": "markdown",
   "metadata": {},
   "source": [
    "2. Read in your article's html source from the file you created in question 1 and do sentiment analysis on the article/post's text (use `.get_text()`).  Print the polarity score with an appropriate label.  Additionally print the number of sentences in the original article (with an appropriate label)"
   ]
  },
  {
   "cell_type": "code",
   "execution_count": 13,
   "metadata": {},
   "outputs": [
    {
     "name": "stdout",
     "output_type": "stream",
     "text": [
      "Polarity score: 0.18\n",
      "Number of sentences: 101\n"
     ]
    }
   ],
   "source": [
    "from bs4 import BeautifulSoup\n",
    "from textblob import TextBlob\n",
    "import re\n",
    "\n",
    "# Step 1: Read the HTML file\n",
    "with open(\"NHTSA-Automated-Car.html\", \"r\", encoding=\"utf-8\") as file:\n",
    "    html_content = file.read()\n",
    "\n",
    "# Step 2: Parse HTML and extract text\n",
    "soup = BeautifulSoup(html_content, \"html.parser\")\n",
    "text = soup.get_text()\n",
    "\n",
    "# Step 3: Perform sentiment analysis\n",
    "blob = TextBlob(text)\n",
    "polarity_score = blob.sentiment.polarity\n",
    "\n",
    "# Step 4: Count number of sentences in the original article\n",
    "sentences = re.split(r'(?<!\\w\\.\\w.)(?<![A-Z][a-z]\\.)(?<=\\.|\\?)\\s', text)  # Basic sentence split\n",
    "num_sentences = len(sentences)\n",
    "\n",
    "# Step 5: Print results\n",
    "print(f\"Polarity score: {polarity_score:.2f}\")\n",
    "print(f\"Number of sentences: {num_sentences}\")"
   ]
  },
  {
   "cell_type": "markdown",
   "metadata": {},
   "source": [
    "3. Load the article text into a trained `spaCy` pipeline, and determine the 5 most frequent tokens (converted to lower case).  Print the common tokens with an appropriate label.  Additionally, print the tokens their frequencies (with appropriate labels)"
   ]
  },
  {
   "cell_type": "code",
   "execution_count": 59,
   "metadata": {},
   "outputs": [
    {
     "name": "stdout",
     "output_type": "stream",
     "text": [
      "5 Most Frequent Tokens\n",
      "Token: 'vehicle', Frequency: 55\n",
      "Token: 'safety', Frequency: 52\n",
      "Token: 'driving', Frequency: 50\n",
      "Token: 'automated', Frequency: 47\n",
      "Token: 'vehicles', Frequency: 40\n"
     ]
    }
   ],
   "source": [
    "import spacy\n",
    "from bs4 import BeautifulSoup\n",
    "from collections import Counter\n",
    "\n",
    "# Step 1: Load the spaCy model (en_core_web_sm is a small English model)\n",
    "nlp = spacy.load(\"en_core_web_sm\")\n",
    "\n",
    "# Step 2: Read the HTML file\n",
    "with open(\"NHTSA-Automated-Car.html\", \"r\", encoding=\"utf-8\") as file:\n",
    "    html_content = file.read()\n",
    "\n",
    "# Step 3: Parse HTML and extract text\n",
    "soup = BeautifulSoup(html_content, \"html.parser\")\n",
    "text = soup.get_text()\n",
    "\n",
    "# Step 4: Process the text using spaCy pipeline\n",
    "doc = nlp(text)\n",
    "\n",
    "# Step 5: Extract tokens and convert to lowercase, then filter out stopwords, non-alphabetical tokens, and punctuation\n",
    "tokens = [token.text.lower() for token in doc if token.is_alpha and not token.is_stop]\n",
    "\n",
    "# Step 6: Count token frequencies\n",
    "token_counts = Counter(tokens)\n",
    "\n",
    "# Step 7: Print the most common tokens and their frequencies\n",
    "common_tokens = token_counts.most_common(5)\n",
    "\n",
    "print(\"5 Most Frequent Tokens\")\n",
    "for token, freq in common_tokens:\n",
    "    print(f\"Token: '{token}', Frequency: {freq}\")"
   ]
  },
  {
   "cell_type": "markdown",
   "metadata": {},
   "source": [
    "4. Load the article text into a trained `spaCy` pipeline, and determine the 5 most frequent lemmas (converted to lower case).  Print the common lemmas with an appropriate label.  Additionally, print the lemmas with their frequencies (with appropriate labels)."
   ]
  },
  {
   "cell_type": "code",
   "execution_count": 60,
   "metadata": {},
   "outputs": [
    {
     "name": "stdout",
     "output_type": "stream",
     "text": [
      "5 Most Frequent Lemmas:\n",
      "Lemma: 'vehicle', Frequency: 79\n",
      "Lemma: 'safety', Frequency: 52\n",
      "Lemma: 'system', Frequency: 41\n",
      "Lemma: 'driver', Frequency: 39\n",
      "Lemma: 'drive', Frequency: 35\n"
     ]
    }
   ],
   "source": [
    "import spacy\n",
    "from bs4 import BeautifulSoup\n",
    "from collections import Counter\n",
    "\n",
    "# Step 1: Load the spaCy model (en_core_web_sm is a small English model)\n",
    "nlp = spacy.load(\"en_core_web_sm\")\n",
    "\n",
    "# Step 2: Read the HTML file\n",
    "with open(\"NHTSA-Automated-Car.html\", \"r\", encoding=\"utf-8\") as file:\n",
    "    html_content = file.read()\n",
    "\n",
    "# Step 3: Parse HTML and extract text\n",
    "soup = BeautifulSoup(html_content, \"html.parser\")\n",
    "text = soup.get_text()\n",
    "\n",
    "# Step 4: Process the text using spaCy pipeline\n",
    "doc = nlp(text)\n",
    "\n",
    "# Step 5: Extract lemmas and convert to lowercase\n",
    "\n",
    "lemmas = [\n",
    "    token.lemma_.lower()\n",
    "    for token in doc\n",
    "    if not token.is_stop and not token.is_punct and token.lemma_.strip()\n",
    "]\n",
    "\n",
    "# Step 6: Count lemma frequencies\n",
    "lemma_counts = Counter(lemmas)\n",
    "\n",
    "# Step 7: Print the most common lemmas and their frequencies\n",
    "common_lemmas = lemma_counts.most_common(5)\n",
    "\n",
    "print(\"5 Most Frequent Lemmas:\")\n",
    "for lemma, freq in common_lemmas:\n",
    "    print(f\"Lemma: '{lemma}', Frequency: {freq}\")"
   ]
  },
  {
   "cell_type": "markdown",
   "metadata": {},
   "source": [
    "5. Make a list containing the scores (using tokens) of every sentence in the article, and plot a histogram with appropriate titles and axis labels of the scores. From your histogram, what seems to be the most common range of scores (put the answer in a comment after your code)?"
   ]
  },
  {
   "cell_type": "code",
   "execution_count": 64,
   "metadata": {},
   "outputs": [
    {
     "data": {
      "image/png": "[encoded data removed]",
      "text/plain": [
       "<Figure size 640x480 with 1 Axes>"
      ]
     },
     "metadata": {},
     "output_type": "display_data"
    }
   ],
   "source": [
    "from textblob import TextBlob\n",
    "import spacy\n",
    "import matplotlib.pyplot as plt\n",
    "\n",
    "# Load spaCy model\n",
    "nlp = spacy.load(\"en_core_web_sm\")\n",
    "\n",
    "# Read the saved text file\n",
    "with open(\"NHTSA-Automated-Car.html\", 'r', encoding='utf-8') as file:\n",
    "    text_content = file.read()\n",
    "\n",
    "# Process the text with spaCy to split into sentences\n",
    "doc = nlp(text_content)\n",
    "sentences = list(doc.sents)\n",
    "\n",
    "# Calculate sentiment scores for each sentence using TextBlob\n",
    "sentence_scores = [TextBlob(sentence.text).sentiment.polarity for sentence in sentences]\n",
    "\n",
    "# Plot the histogram of scores\n",
    "plt.hist(sentence_scores, bins=20, edgecolor='red')\n",
    "plt.title(\"Sentiment Scores of Sentences\")\n",
    "plt.xlabel(\"Sentiment Score\")\n",
    "plt.ylabel(\"Frequency\")\n",
    "plt.show()\n",
    "\n",
    "## From the histogram, the most common range of sentiment scores is around 0 (neutral), \n",
    "## meaning that the article generally maintains a neutral sentiment.\n"
   ]
  },
  {
   "cell_type": "markdown",
   "metadata": {},
   "source": [
    "6. Make a list containing the scores (using lemmas) of every sentence in the article, and plot a histogram with appropriate titles and axis labels of the scores.  From your histogram, what seems to be the most common range of scores (put the answer in a comment after your code)?"
   ]
  },
  {
   "cell_type": "code",
   "execution_count": 71,
   "metadata": {},
   "outputs": [
    {
     "data": {
      "image/png": "[encoded data removed]",
      "text/plain": [
       "<Figure size 640x480 with 1 Axes>"
      ]
     },
     "metadata": {},
     "output_type": "display_data"
    }
   ],
   "source": [
    "from textblob import TextBlob\n",
    "import spacy\n",
    "import matplotlib.pyplot as plt\n",
    "\n",
    "# Load spaCy model\n",
    "nlp = spacy.load(\"en_core_web_sm\")\n",
    "\n",
    "# Read the saved text file\n",
    "with open(\"NHTSA-Automated-Car.html\", 'r', encoding='utf-8') as file:\n",
    "    text_content = file.read()\n",
    "\n",
    "# Process the text with spaCy to split into sentences\n",
    "doc = nlp(text_content)\n",
    "sentences = list(doc.sents)\n",
    "\n",
    "# Calculate sentiment scores for each sentence based on lemmatized words\n",
    "sentence_scores_lemmas = []\n",
    "for sentence in sentences:\n",
    "    # Lemmatize the tokens in the sentence\n",
    "    lemmatized_tokens = [token.lemma_ for token in sentence if not token.is_stop and not token.is_punct]\n",
    "    lemmatized_text = \" \".join(lemmatized_tokens)\n",
    "    \n",
    "    # Calculate sentiment score using TextBlob\n",
    "    score = TextBlob(lemmatized_text).sentiment.polarity\n",
    "    sentence_scores_lemmas.append(score)\n",
    "\n",
    "# Plot the histogram of sentiment scores based on lemmatized tokens\n",
    "plt.hist(sentence_scores_lemmas, bins=20, edgecolor='red')\n",
    "plt.title(\"Sentiment Scores of Sentences (Lemma-based)\")\n",
    "plt.xlabel(\"Sentiment Score\")\n",
    "plt.ylabel(\"Frequency\")\n",
    "plt.show()\n",
    "\n",
    "\n",
    "# Based on the histogram, the most common range of lemma-based sentiment scores is approximately 0, \n",
    "# indicating that the majority of sentences in the text are either neutral or have a sentiment close to neutral.\n"
   ]
  },
  {
   "cell_type": "markdown",
   "metadata": {},
   "source": [
    "7. Using the histograms from questions 5 and 6, decide a \"cutoff\" score for tokens and lemmas such that fewer than half the sentences would have a score greater than the cutoff score.  Record the scores in this Markdown cell\n",
    "\n",
    "* Cutoff Score (tokens): \n",
    "* Cutoff Score (lemmas):\n",
    "\n",
    "Feel free to change these scores as you generate your summaries.  Ideally, we're shooting for at least 6 sentences for our summary, but don't want more than 10 (these numbers are rough estimates; they depend on the length of your article)."
   ]
  },
  {
   "cell_type": "code",
   "execution_count": 102,
   "metadata": {},
   "outputs": [
    {
     "name": "stdout",
     "output_type": "stream",
     "text": [
      "Cutoff Score (tokens): 0.0\n",
      "Cutoff Score (lemmas): 0.025\n"
     ]
    }
   ],
   "source": [
    "import numpy as np\n",
    "\n",
    "# `sentence_scores` contains the scores based on tokens (from Question 5)\n",
    "# `sentence_scores_lemmas` contains the scores based on lemmas (from Question 6)\n",
    "\n",
    "# Calculate the cutoff scores\n",
    "cutoff_tokens = np.median(sentence_scores)\n",
    "cutoff_lemmas = np.median(sentence_scores_lemmas)\n",
    "\n",
    "# Print the cutoff scores\n",
    "print(\"Cutoff Score (tokens):\", cutoff_tokens)\n",
    "print(\"Cutoff Score (lemmas):\", cutoff_lemmas)\n"
   ]
  },
  {
   "cell_type": "markdown",
   "metadata": {},
   "source": [
    "8. Create a summary of the article by going through every sentence in the article and adding it to an (initially) empty list if its score (based on tokens) is greater than the cutoff score you identified in question 8.  If your loop variable is named `sent`, you may find it easier to add `sent.text.strip()` to your list of sentences.  Print the summary (I would cleanly generate the summary text by `join`ing the strings in your list together with a space (`' '.join(sentence_list)`)."
   ]
  },
  {
   "cell_type": "code",
   "execution_count": null,
   "metadata": {},
   "outputs": [
    {
     "name": "stdout",
     "output_type": "stream",
     "text": [
      "Automated Vehicle Safety | NHTSA Skip to main content National Highway Traffic Safety Administration, part of the U.S. Department of Transportation Report a Safety Problem Toggle navigation Menu Homepage Report a Safety Problem Ratings Recalls\n",
      "Risky Driving Drunk Driving Drug-Impaired Driving Distracted Driving Speeding Drowsy Driving Road Safety Child Safety Teen Driving Older Drivers Pedestrian Safety Bicycle Safety Motorcycle Safety School Bus Safety Vehicle Safety Car Seats & Boosters Seat Belts\n",
      "Tires Air Bags Takata Recall Spotlight Driver Assistance Technologies Electric & Hybrid Vehicles Automated Vehicles Vehicle Theft Prevention Odometer Fraud Adapted Vehicles 15-Passenger Vans More Briefing Room\n",
      "Importing a Vehicle Data Research Laws & Regulations Vehicle Manufacturers State Governments Enforcement & Justice Vehicle Safety Topics Vehicle Safety 15-Passenger Vans Adapted Vehicles Air Bags Automated Vehicles for Safety Car Seats and Booster Seats Seat Belts Driver Assistance Technologies Electric and Hybrid Vehicles Odometer Fraud Tires Vehicle Theft Prevention Takata Recall Spotlight Automated Vehicles for Safety Language: English Español Overview\n",
      "One day, automated driving systems, which some refer to as automated vehicles, may be able to handle the whole task of driving when we don’t want to or can’t do it ourselves.\n",
      "Share: Facebook Twitter LinkedIn Mail Safety Facts 42,514 Number of people killed in motor vehicle crashes in 2022 Learn about testing happening in the U.S. AV TEST Automated Vehicles for Safety The Topic NHTSA\n",
      "In Action Resources Today's Tech Safety Timeline Road to Full Automation Benefits Frequently Asked Questions Automated Vehicles for Safety The Topic Today's Tech Safety Timeline Road to Full Automation Benefits Frequently Asked Questions NHTSA\n",
      "The Topic The Evolution of Automated Safety Technologies Related Topic Driver Assistance Technologies Many vehicles on the road today have driver assistance technologies , which help to save lives and prevent injuries on our nation's roads.\n",
      "While some driver assistance technologies are designed to warn you if you’re at risk of an impending crash, others are designed to take action to avoid a crash.\n",
      "Guidance Resources Five Eras of Safety 1950 - 2000 Safety/Convenience Features Cruise Control Seat Belts Antilock Brakes 2000 – 2010 Advanced Safety Features Electronic Stability Control Blind Spot Detection Forward Collision Warning Lane Departure Warning 2010 – 2016 Advanced Driver Assistance Features Rearview Video Systems Automatic Emergency Braking Pedestrian Automatic Emergency Braking Rear Automatic Emergency Braking Rear Cross Traffic Alert Lane Centering Assist 2016 - 2025 Partially Automated Safety Features\n",
      "The Topic The Road to Full Automation GRAPHIC LEVELS OF AUTOMATION PDF Cars and trucks that drive us — instead of us driving them — may offer transformative safety opportunities at their maturity.\n",
      "Example of vehicle technologies: automatic emergency braking forward collision warning lane departure warning Level 1 Driver Assistance System provides continuous assistance with either acceleration/braking OR steering, while driver remains fully engaged and attentive You Drive,\n",
      "Example of vehicle technologies: adaptive cruise control lane keeping assistance Level 2 Additional Assistance System provides continuous assistance with both acceleration/braking AND steering, while driver remains fully engaged and attentive.\n",
      "System Drives, You Must Be Available To Take Over Upon Request When engaged, the system handles all aspects of the driving task while you, as the driver, are available to take over driving if requested.\n",
      "Level 4 High Automation System is fully responsible for driving tasks within limited service areas while occupants act only as passengers and do not need to be engaged.\n",
      "When Engaged, System Drives, You Ride When engaged, the system handles all driving tasks while you, now the passenger, are not needed to maneuver the vehicle.\n",
      "When Engaged, System Drives, You Ride When engaged, the system handles all driving tasks while you, now the passenger, are not needed to maneuver the vehicle.\n",
      "These are types of advanced driver assistance systems , which provide lower levels of automation that can assist a driver by anticipating imminent dangers and working to avoid them.\n",
      "Vehicle automation will potentially change the need for individualized parking spaces and lots, with increased use of automated ride share and shuttle fleets, which could dramatically transform land use.\n",
      "Efficiency and Convenience Americans spent an estimated 6.9 billion hours in traffic delays in 2014, cutting into time at work or with family, increasing fuel costs and vehicle emissions.\n",
      "Vehicles with an automated driving system, which some refer to as \"self-driving\" cars, are a future technology – not a technology you’re able to purchase and use today.\n",
      "Types of automated technologies, such as advanced driver assistance system technologies already in use on the roads and future automated driving systems at their mature state, have the potential to reduce crashes, prevent injuries, and save lives.\n",
      "Many vehicles today include features that assist drivers in specific circumstances, such as keeping us from drifting out of our lane or helping us stop in time to avoid a crash or reduce its severity.\n",
      "If you’re currently shopping for a new vehicle, review NHTSA's 5-Star Safety Ratings to make informed decisions about the safety features included in the vehicle.\n",
      "Many companies today are testing vehicles with higher levels of automation to ensure that they operate as intended, but many experts indicate that more work remains to be done by developers to ensure their safe operation before they are available for consumers to purchase.\n",
      "In advancing these features and exploring the potential of full automation, USDOT and NHTSA are focused on cybersecurity to ensure that companies appropriately safeguard these systems to be resilient and work as intended.\n",
      "It is vital to emphasize that drivers will continue to share driving responsibilities for the foreseeable future and must remain engaged and attentive to the driving task and the road ahead with the consumer available technologies today.\n",
      "However, questions about liability and insurance are among many important questions, in addition to technical considerations that, policymakers are working to address before automated driving systems reach their maturity and are available to the public.\n",
      "A vehicle that is fully automated will be capable of controlling all aspects of driving without human intervention, regardless of whether its design includes controls for an actual driver.\n",
      "Vehicles with partial and full automation could offer new mobility options to many more people, helping them to live independently or to better connect them to jobs, education and training, and other opportunities.\n",
      "NHTSA follows industry standards in not using the term \"self-driving\" to describe higher levels of automation, as this describes a vehicle's state of operation but not necessarily its capabilities and too often is falsely associated with how today's drivers need to interact with a vehicle.\n",
      "In Action NHTSA is dedicated to advancing the lifesaving potential of new vehicle technologies NHTSA demonstrates its dedication to saving lives on our nation’s roads and highways through its approach to the safe development, testing, and deployment of new and advanced vehicle technologies that have enormous potential for improving safety and mobility for all Americans.\n",
      "In 2021, NHTSA issued a Standing General Order that requires manufacturers and operators of automated driving systems and SAE Level 2 advanced driver assistance systems equipped vehicles to report crashes to the agency.\n",
      "As part of the AV TEST initiative, states and companies can voluntarily submit information about testing of automated driving systems to NHTSA, and the public can view the information using NHTSA’s interactive tool.\n",
      "In September 2016, NHTSA and the U.S. Department of Transportation issued the Federal Automated Vehicles Policy, which sets forth a proactive approach to providing safety assurance and facilitating innovation.\n",
      "Building on that policy and incorporating feedback received through public comments, stakeholder meetings, and Congressional hearings the agency issued Automated Driving Systems: A Vision for Safety .\n",
      "Explore other topics in Vehicle Safety 15-Passenger Vans Adapted Vehicles Air Bags Automated Vehicles for Safety Car Seats and Booster Seats Seat Belts Driver Assistance Technologies Electric and Hybrid Vehicles Odometer Fraud Tires Vehicle Theft Prevention Takata Recall Spotlight NHTSA Information About NHTSA Careers & Internships Contact Us Recall Information Report a Safety Problem Information For Vehicle Manufacturers State Governments Enforcement & Justice NHTSA Sites\n",
      "TrafficSafetyMarketing.gov EMS.gov 911.gov Website Information Web Policies & Notices Accessibility FOIA Privacy Policy Information Quality Vulnerability Disclosure Policy No Fear Act Data Ethics Civil Rights Office of Inspector General OIG Hotline BusinessUSA USA.gov WhiteHouse.gov National Highway Traffic Safety Administration 1200 New Jersey Avenue, SE Washington, D.C. 20590 888-327-4236 888-275-9171 (TTY)\n",
      "\n",
      "Number of Sentences in Summary: 38\n"
     ]
    }
   ],
   "source": [
    "# Initialize empty list for summary sentences \n",
    "summary_sentences = []\n",
    "\n",
    "# Calculate scores and add sentences that exceed cutoff\n",
    "for sent in doc.sents:\n",
    "    # Count tokens (excluding punctuation and spaces)\n",
    "    score = len([token for token in sent if not token.is_punct and not token.is_space])\n",
    "   \n",
    "    # If score exceeds cutoff, add sentence to summary\n",
    "    if score > 25:\n",
    "        summary_sentences.append(sent.text.strip())\n",
    "\n",
    "# Join sentences with newlines and print summary\n",
    "summary = '\\n'.join(summary_sentences)\n",
    "print(summary)\n",
    "print(\"\\nNumber of Sentences in Summary:\", len(summary_sentences))"
   ]
  },
  {
   "cell_type": "markdown",
   "metadata": {},
   "source": [
    "9. Print the polarity score of your summary you generated with the token scores (with an appropriate label). Additionally, print the number of sentences in the summarized article."
   ]
  },
  {
   "cell_type": "code",
   "execution_count": null,
   "metadata": {},
   "outputs": [
    {
     "name": "stdout",
     "output_type": "stream",
     "text": [
      "Token Summary Sentiment Polarity Score: 0.16\n",
      "Number of sentences in the Token summary: 38\n"
     ]
    }
   ],
   "source": [
    "# Get the summary text from the last cell\n",
    "summary_text = '\\n'.join(summary_sentences)\n",
    "\n",
    "# Create TextBlob object for sentiment analysis\n",
    "summary_blob = TextBlob(summary_text)\n",
    "\n",
    "# Get polarity score and sentence count\n",
    "polarity = summary_blob.sentiment.polarity\n",
    "sentence_count = len(summary_sentences)\n",
    "\n",
    "# Print results with labels\n",
    "print(f\"Token Summary Sentiment Polarity Score: {polarity:.2f}\")\n",
    "print(f\"Number of sentences in the Token summary: {sentence_count}\")"
   ]
  },
  {
   "cell_type": "markdown",
   "metadata": {},
   "source": [
    "10. Create a summary of the article by going through every sentence in the article and adding it to an (initially) empty list if its score (based on lemmas) is greater than the cutoff score you identified in question 8.  If your loop variable is named `sent`, you may find it easier to add `sent.text.strip()` to your list of sentences.  Print the summary (I would cleanly generate the summary text by `join`ing the strings in your list together with a space (`' '.join(sentence_list)`)."
   ]
  },
  {
   "cell_type": "code",
   "execution_count": 159,
   "metadata": {},
   "outputs": [
    {
     "name": "stdout",
     "output_type": "stream",
     "text": [
      "Summary of the Article (Lemma-Based):\n",
      "Automated Vehicle Safety | NHTSA Skip to main content National Highway Traffic Safety Administration, part of the U.S. Department of Transportation Report a Safety Problem Toggle navigation Menu Homepage Report a Safety Problem Ratings Recalls Risky Driving Drunk Driving Drug-Impaired Driving Distracted Driving Speeding Drowsy Driving Road Safety Child Safety Teen Driving Older Drivers Pedestrian Safety Bicycle Safety Motorcycle Safety School Bus Safety Vehicle Safety Car Seats & Boosters Seat Belts Tires Air Bags Takata Recall Spotlight Driver Assistance Technologies Electric & Hybrid Vehicles Automated Vehicles Vehicle Theft Prevention Odometer Fraud Adapted Vehicles 15-Passenger Vans More Briefing Room Importing a Vehicle Data Research Laws & Regulations Vehicle Manufacturers State Governments Enforcement & Justice Vehicle Safety Topics Vehicle Safety 15-Passenger Vans Adapted Vehicles Air Bags Automated Vehicles for Safety Car Seats and Booster Seats Seat Belts Driver Assistance Technologies Electric and Hybrid Vehicles Odometer Fraud Tires Vehicle Theft Prevention Takata Recall Spotlight Automated Vehicles for Safety Language: English Español Overview The continuing evolution of automotive technology aims to deliver even greater safety benefits than earlier technologies. One day, automated driving systems, which some refer to as automated vehicles, may be able to handle the whole task of driving when we don’t want to or can’t do it ourselves. AV TEST Automated Vehicles for Safety The Topic NHTSA In Action Resources Today's Tech Safety Timeline Road to Full Automation Benefits Frequently Asked Questions Automated Vehicles for Safety The Topic Today's Tech Safety Timeline Road to Full Automation Benefits Frequently Asked Questions NHTSA In Action Resources The Topic The Evolution of Automated Safety Technologies Related Topic Driver Assistance Technologies Many vehicles on the road today have driver assistance technologies , which help to save lives and prevent injuries on our nation's roads. The continuing evolution of automotive technology, including driver assistance technologies and automated driving systems, aim to deliver even greater safety benefits. A Vision for Safety: Learn More Download NHTSA’s voluntary guidance, technical documentation, and additional resources related to automated vehicles. Guidance Resources Five Eras of Safety 1950 - 2000 Safety/Convenience Features Cruise Control Seat Belts Antilock Brakes 2000 – 2010 Advanced Safety Features Electronic Stability Control Blind Spot Detection Forward Collision Warning Lane Departure Warning 2010 – 2016 Advanced Driver Assistance Features Rearview Video Systems Automatic Emergency Braking Pedestrian Automatic Emergency Braking Rear Automatic Emergency Braking Rear Cross Traffic Alert Lane Centering Assist 2016 - 2025 Partially Automated Safety Features Lane Keeping Assist Adaptive Cruise Control Traffic Jam Assist 2025+ Fully Automated Safety Features The Topic The Road to Full Automation GRAPHIC LEVELS OF AUTOMATION PDF Cars and trucks that drive us — instead of us driving them — may offer transformative safety opportunities at their maturity. At this time, even the highest level of driving automation available to consumers requires the full engagement and undivided attention of drivers. There is considerable investment into safe testing, development and validation of automated driving systems. Level 0 Momentary Driver Assistance System provides momentary driving assistance, like warnings and alerts, or emergency safety interventions while driver remains fully engaged and attentive. You Drive, You Monitor You, as the driver, are responsible for driving the vehicle. Example of vehicle technologies: automatic emergency braking forward collision warning lane departure warning Level 1 Driver Assistance System provides continuous assistance with either acceleration/braking OR steering, while driver remains fully engaged and attentive You Drive, You Monitor You, as the driver, are responsible for driving the vehicle. Example of vehicle technologies: adaptive cruise control lane keeping assistance Level 2 Additional Assistance System provides continuous assistance with both acceleration/braking AND steering, while driver remains fully engaged and attentive. You Drive, You Monitor You, as the driver, are responsible for driving the vehicle. Example of vehicle technologies: highway pilot Level 3 Conditional Automation System actively performs driving tasks while driver remains available to take over. System Drives, You Must Be Available To Take Over Upon Request When engaged, the system handles all aspects of the driving task while you, as the driver, are available to take over driving if requested. If the system can no longer operate and prompts the driver, the driver must be available to resume all aspects of the driving task. Level 4 High Automation System is fully responsible for driving tasks within limited service areas while occupants act only as passengers and do not need to be engaged. Level 5 Full Automation System is fully responsible for driving tasks while occupants act only as passengers and do not need to be engaged. Higher levels of automation, referred to as automated driving systems, remove the human driver from the chain of events that can lead to a crash. What is available to consumers today: active safety systems. These are types of advanced driver assistance systems , which provide lower levels of automation that can assist a driver by anticipating imminent dangers and working to avoid them. Economic and Societal Benefits Automated technologies could deliver additional economic and societal benefits. ENVIRONMENTAL The automotive industry is moving toward more automation and electrification, which both hold promise for further improvements in safety and better environmental practices. The Topic Frequently Asked Questions When will automated driving systems or \"self-driving\" vehicles be available? Vehicles with an automated driving system, which some refer to as \"self-driving\" cars, are a future technology – not a technology you’re able to purchase and use today. Types of automated technologies, such as advanced driver assistance system technologies already in use on the roads and future automated driving systems at their mature state, have the potential to reduce crashes, prevent injuries, and save lives. In some circumstances, automated technologies may be able to detect the threat of a crash and act faster than drivers. These technologies could greatly support drivers and reduce human errors and the resulting crashes, injuries, and economic tolls. There is no vehicle currently available for sale that is fully automated or \"self-driving.\" Every vehicle currently for sale in the United States requires the full attention of the driver at all times for safe operation. Currently, states permit a limited number of “self-driving” vehicles to conduct testing, research, and pilot programs on public streets and NHTSA monitors their safety through its Standing General Order . NHTSA and USDOT are committed to overseeing the safe testing, development and deployment of these systems – currently in limited, restricted and designated locations and conditions. What automated features are currently available in vehicles? Many vehicles today include features that assist drivers in specific circumstances, such as keeping us from drifting out of our lane or helping us stop in time to avoid a crash or reduce its severity. Read more about this on NHTSA's safety technologies topic . If you’re currently shopping for a new vehicle, review NHTSA's 5-Star Safety Ratings to make informed decisions about the safety features included in the vehicle. How will I know automated driving systems are safe? Companies must comply with Federal Motor Vehicle Safety Standards and certify that their vehicle is free of safety risks. Many companies today are testing vehicles with higher levels of automation to ensure that they operate as intended, but many experts indicate that more work remains to be done by developers to ensure their safe operation before they are available for consumers to purchase. Cybersecurity is a critical issue that USDOT and automotive companies are working to address for the future safe deployment of these technologies. Advanced vehicle safety technologies depend on an array of electronics, sensors, and computing power. In advancing these features and exploring the potential of full automation, USDOT and NHTSA are focused on cybersecurity to ensure that companies appropriately safeguard these systems to be resilient and work as intended. You can read more about our approach by visiting NHTSA's vehicle cybersecurity topic . It is vital to emphasize that drivers will continue to share driving responsibilities for the foreseeable future and must remain engaged and attentive to the driving task and the road ahead with the consumer available technologies today. However, questions about liability and insurance are among many important questions, in addition to technical considerations that, policymakers are working to address before automated driving systems reach their maturity and are available to the public. Will I be allowed to drive my own vehicle in the future if it is automated? A vehicle that is fully automated will be capable of controlling all aspects of driving without human intervention, regardless of whether its design includes controls for an actual driver. As is the case now, consumers will decide what types of vehicle designs best suit their needs. Some older Americans and people with disabilities are able to drive today by adapting or modifying their vehicles to meet their specific needs. Vehicles with partial and full automation could offer new mobility options to many more people, helping them to live independently or to better connect them to jobs, education and training, and other opportunities. When discussing types of vehicles where a traditional driver would no longer be needed, NHTSA refers to them as automated driving systems. NHTSA In Action NHTSA is dedicated to advancing the lifesaving potential of new vehicle technologies NHTSA demonstrates its dedication to saving lives on our nation’s roads and highways through its approach to the safe development, testing, and deployment of new and advanced vehicle technologies that have enormous potential for improving safety and mobility for all Americans. NHTSA supports the Safe System Approach, a data-driven, holistic, and equitable method to roadway safety that fully integrates the needs of all users. As part of this approach, vehicle safety technologies offer unique opportunities to reduce traffic deaths, injuries, and harm. In 2021, NHTSA issued a Standing General Order that requires manufacturers and operators of automated driving systems and SAE Level 2 advanced driver assistance systems equipped vehicles to report crashes to the agency. In 2020, NHTSA launched Automated Vehicle Transparency and Engagement for Safe Testing . Search for more resources The resources table requires JavaScript to be displayed. Explore other topics in Vehicle Safety 15-Passenger Vans Adapted Vehicles Air Bags Automated Vehicles for Safety Car Seats and Booster Seats Seat Belts Driver Assistance Technologies Electric and Hybrid Vehicles Odometer Fraud Tires Vehicle Theft Prevention Takata Recall Spotlight NHTSA Information About NHTSA Careers & Internships Contact Us Recall Information Report a Safety Problem Information For Vehicle Manufacturers State Governments Enforcement & Justice NHTSA Sites SaferCar App TrafficSafetyMarketing.gov EMS.gov 911.gov Website Information Web Policies & Notices Accessibility FOIA Privacy Policy Information Quality Vulnerability Disclosure Policy No Fear Act Data Ethics Civil Rights Office of Inspector General OIG Hotline BusinessUSA USA.gov WhiteHouse.gov National Highway Traffic Safety Administration 1200 New Jersey Avenue, SE Washington, D.C.\n"
     ]
    }
   ],
   "source": [
    "# Ensure article_sentences and lemma_scores are aligned\n",
    "article_sentences = re.split(r'(?:\\n{2,}|\\n\\s*|\\s{2,}|(?<=[.!?]) +)', article_text)\n",
    "article_sentences = [sentence.strip() for sentence in article_sentences if sentence.strip()]\n",
    "\n",
    "lemma_scores = []\n",
    "for sent in article_sentences:\n",
    "    doc = nlp(sent)\n",
    "    lemmatized_sentence = \" \".join([token.lemma_ for token in doc if not token.is_punct])\n",
    "    blob = TextBlob(lemmatized_sentence)\n",
    "    lemma_scores.append(blob.sentiment.polarity)\n",
    "\n",
    "# Create the lemma-based summary\n",
    "lemma_summary_sentences = []\n",
    "for i, sent in enumerate(article_sentences):\n",
    "    if lemma_scores[i] > 0.0:  # Using the lemma cutoff score identified earlier\n",
    "        lemma_summary_sentences.append(sent.strip())\n",
    "\n",
    "# Generate the summary text\n",
    "lemma_summary_text = ' '.join(lemma_summary_sentences)\n",
    "\n",
    "# Step 4: Print the summary and sentence count\n",
    "print(\"Summary of the Article (Lemma-Based):\")\n",
    "print(lemma_summary_text)\n"
   ]
  },
  {
   "cell_type": "markdown",
   "metadata": {},
   "source": [
    "11. Print the polarity score of your summary you generated with the lemma scores (with an appropriate label). Additionally, print the number of sentences in the summarized article."
   ]
  },
  {
   "cell_type": "code",
   "execution_count": 160,
   "metadata": {},
   "outputs": [
    {
     "name": "stdout",
     "output_type": "stream",
     "text": [
      "Summary Polarity Score: 0.21875\n",
      "Number of sentences in the summary: 4\n"
     ]
    }
   ],
   "source": [
    "from textblob import TextBlob\n",
    "# Calculate the polarity score of the summary\n",
    "summary_analysis = TextBlob(summary)\n",
    "summary_polarity = summary_analysis.sentiment.polarity\n",
    "\n",
    "# Print the polarity score of the summary\n",
    "print(f\"Summary Polarity Score: {summary_polarity}\")\n",
    "\n",
    "# Process the summary text to count the sentences\n",
    "summary_doc = nlp(summary)\n",
    "num_summary_sentences = len(list(summary_doc.sents))\n",
    "\n",
    "# Print the number of sentences in the summary\n",
    "print(f\"Number of sentences in the summary: {num_summary_sentences}\")"
   ]
  },
  {
   "cell_type": "markdown",
   "metadata": {},
   "source": [
    "12.  Compare your polarity scores of your summaries to the polarity scores of the initial article.  Is there a difference?  Why do you think that may or may not be?.  Answer in this Markdown cell.  \n",
    "\n",
    "The polarity scores for the initial article (0.18), token-based summary (0.16), and lemma-based summary (0.21875) show slight variations in sentiment. The token-based summary is slightly more neutral, likely due to the removal of some positive elements, while the lemma-based summary retains a slightly higher positive sentiment by focusing on core words. Overall, the sentiment remains relatively consistent across all versions"
   ]
  },
  {
   "cell_type": "markdown",
   "metadata": {},
   "source": [
    "13. Based on your reading of the original article, which summary do you think is better (if there's a difference).  Why do you think this might be?\n",
    "\n",
    "I think the lemma-based summary is the better option, as it more accurately preserves both the meaning and sentiment of the original article."
   ]
  }
 ],
 "metadata": {
  "kernelspec": {
   "display_name": ".venv",
   "language": "python",
   "name": "python3"
  },
  "language_info": {
   "codemirror_mode": {
    "name": "ipython",
    "version": 3
   },
   "file_extension": ".py",
   "mimetype": "text/x-python",
   "name": "python",
   "nbconvert_exporter": "python",
   "pygments_lexer": "ipython3",
   "version": "3.11.5"
  }
 },
 "nbformat": 4,
 "nbformat_minor": 4
}
